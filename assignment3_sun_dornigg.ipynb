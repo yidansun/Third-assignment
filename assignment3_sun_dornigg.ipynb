{
 "cells": [
  {
   "cell_type": "markdown",
   "metadata": {},
   "source": [
    "# Numerical Simulation - Assignment 3\n",
    "\n",
    "|name|ANR|email|\n",
    "|----|---|-----|\n",
    "|1. Yidan Sun|151037|y.sun_4@tilburguniversity.edu|\n",
    "|2. Juergen Dornigg|551019|j.dornigg@tilburguniversity.edu|"
   ]
  },
  {
   "cell_type": "markdown",
   "metadata": {},
   "source": [
    "## 1. Introduction\n",
    "\n",
    "In the last semester, we both attended the seminar _Sustainability and regional growth_. In this course we discussed several models that can explain why some countries grow and others don't. A famous model in the field of growth economics is the _Solow Model_. \n",
    "\n",
    "The _Solow Model_ models a closed economy that produces only a final good. Moreover, all households are identical and save a constant fraction of their disposable income. In addition, households supply all their labor inelastically and markets are competitive.\n",
    "\n",
    "In this notebook, we are going to show how the _Solow Model_ changes if instead of a fixed fraction of output, a fixed fraction of profits is reinvested."
   ]
  },
  {
   "cell_type": "markdown",
   "metadata": {},
   "source": [
    "## 2. Description of the Solow Model\n",
    "\n",
    "### 2.1. Assumptions\n",
    "\n",
    "In our model, we assume that...\n",
    "* output in the economy can be described with a Cobb-Douglas production function\n",
    "* no population growth\n",
    "* no technological progress\n",
    "\n",
    "### 2.1. Equations of the Standard Model\n",
    "\n",
    "**Output** in time $t: Y_{t} = A \\cdot K_{t}^{\\alpha} \\cdot L_{t}^{1-\\alpha}$\n",
    "\n",
    "**Capital** in time $t: K_{t+1} = K_{t} + s \\cdot Y_{t} - \\delta \\cdot K_{t}$\n",
    "\n",
    "### 2.2. Equations of the Modified Model\n",
    "\n",
    "**Output** in time $t$: same as in the Standard Model\n",
    "\n",
    "**Capital** in time $t+1: K_{t+1} = K_{t} + s \\cdot \\pi_{t} - \\delta \\cdot K_{t}$\n",
    "\n",
    "**Marginal Productivity of labor** in time $t: MP_{L, t} = (1 - \\alpha) \\cdot A \\cdot K_{t}^{\\alpha} \\cdot L_{t}^{-\\alpha}$\n",
    "\n",
    "**Profits** in time $t: \\pi_{t} = Y_{t} - MP_{L, t} \\cdot L_{t}$\n",
    "\n",
    "\n",
    "\n",
    "\n",
    "\n"
   ]
  },
  {
   "cell_type": "markdown",
   "metadata": {},
   "source": [
    "## 3. Python implementation\n",
    "\n",
    "First, we import some libraries"
   ]
  },
  {
   "cell_type": "code",
   "execution_count": 20,
   "metadata": {
    "collapsed": true
   },
   "outputs": [],
   "source": [
    "from scipy import optimize,arange\n",
    "from numpy import array\n",
    "from math  import pow\n",
    "import matplotlib.pyplot as plt\n",
    "%matplotlib inline"
   ]
  },
  {
   "cell_type": "markdown",
   "metadata": {},
   "source": [
    "Next, we initializae some parameters that are the same in both models"
   ]
  },
  {
   "cell_type": "code",
   "execution_count": 21,
   "metadata": {
    "collapsed": true
   },
   "outputs": [],
   "source": [
    "# Technological progress\n",
    "A = 1\n",
    "# Output share of capital\n",
    "ALPHA = 0.3\n",
    "# Deprecation\n",
    "DELTA = 0.1\n",
    "# Savings rate\n",
    "S = 0.4\n",
    "# Initial level of capital \n",
    "K0 = 10.0\n",
    "# Initial level of labor\n",
    "L0 = 100.0\n",
    "# Max. number of time periods \n",
    "ROUNDS = 50\n",
    "# Used during the optimization. Defines the maximum difference between two consecutive capital stocks\n",
    "EPSILON = 0.001"
   ]
  },
  {
   "cell_type": "markdown",
   "metadata": {},
   "source": [
    "Next, we calculate the values of output and capital over time."
   ]
  },
  {
   "cell_type": "code",
   "execution_count": 22,
   "metadata": {
    "collapsed": true
   },
   "outputs": [],
   "source": [
    "def output(k, l):\n",
    "    return( A * pow(k, ALPHA) * pow(l, 1 - ALPHA) )\n",
    "\n",
    "def capitalStd(k, y, savRate):\n",
    "    return( k + savRate * y - DELTA * k )\n",
    "    \n",
    "def capitalMod(k, y, p):\n",
    "    return( k + S * p - DELTA * k )\n",
    "\n",
    "def profits(y, w, l):\n",
    "    return( y - w * l )\n",
    "    \n",
    "def mpl(k, l):\n",
    "    return( (1 - ALPHA) * A * pow(k, ALPHA) * pow(l, -ALPHA) )\n",
    "\n",
    "def growthRate(x):\n",
    "    rate = []\n",
    "    for i in range(1, len(x) - 1):\n",
    "        rate.append( 100 * (x[i] - x[i - 1]) / x[i - 1] )\n",
    "    \n",
    "    return(rate)"
   ]
  },
  {
   "cell_type": "code",
   "execution_count": 23,
   "metadata": {
    "collapsed": false
   },
   "outputs": [],
   "source": [
    "y_vec_std = []\n",
    "k_vec_std = []\n",
    "y_vec_mod = []\n",
    "k_vec_mod = []\n",
    "p_vec_mod = []\n",
    "w_vec_mod = []\n",
    "\n",
    "for i in range(0, ROUNDS - 1):\n",
    "    if i == 0:\n",
    "        k_vec_std.append(K0)\n",
    "        k_vec_mod.append(K0)\n",
    "    else:\n",
    "        k_vec_std.append(capitalStd(k_vec_std[len(k_vec_std) - 1], y_vec_std[len(y_vec_std) - 1], S))\n",
    "        k_vec_mod.append(capitalMod(k_vec_mod[len(k_vec_mod) - 1], y_vec_mod[len(y_vec_mod) - 1], p_vec_mod[len(p_vec_mod) - 1] ))\n",
    "\n",
    "    # calculate output\n",
    "    y_vec_std.append( output( k_vec_std[len(k_vec_std) - 1], L0 ) )\n",
    "    y_vec_mod.append( output( k_vec_mod[len(k_vec_mod) - 1], L0 ) )\n",
    "\n",
    "    # for the modified model: wages and profit\n",
    "    w_vec_mod.append( mpl(k_vec_mod[len(k_vec_mod) - 1], L0) )\n",
    "    p_vec_mod.append( profits( y_vec_mod[len(y_vec_mod) - 1], w_vec_mod[len(w_vec_mod) - 1], L0 ) )"
   ]
  },
  {
   "cell_type": "markdown",
   "metadata": {},
   "source": [
    "Graph... <a id=output></a>output, "
   ]
  },
  {
   "cell_type": "code",
   "execution_count": 24,
   "metadata": {
    "collapsed": false
   },
   "outputs": [
    {
     "data": {
      "image/png": "[encoded data removed]",
      "text/plain": [
       "<matplotlib.figure.Figure at 0x62fbb70>"
      ]
     },
     "metadata": {},
     "output_type": "display_data"
    }
   ],
   "source": [
    "range_x = arange(0, ROUNDS - 1, 1)\n",
    "\n",
    "plt.clf()\n",
    "plt.plot(range_x, y_vec_std,'-', color = 'r', linewidth = 2, label = 'Std.')\n",
    "plt.plot(range_x, y_vec_mod,'-', color = 'b', linewidth = 2, label = 'Mod.')\n",
    "plt.title(\"Level of output\", fontsize = 15)\n",
    "plt.xlabel(\"time\", fontsize = 15)\n",
    "plt.ylabel(\"y\", fontsize = 15, rotation = 90)\n",
    "plt.legend(loc = 'lower right')\n",
    "plt.xlim(0, ROUNDS - 1)\n",
    "plt.savefig('output.png')"
   ]
  },
  {
   "cell_type": "markdown",
   "metadata": {},
   "source": [
    "...<a id=capital></a>capital and "
   ]
  },
  {
   "cell_type": "code",
   "execution_count": 25,
   "metadata": {
    "collapsed": false
   },
   "outputs": [
    {
     "data": {
      "image/png": "[encoded data removed]",
      "text/plain": [
       "<matplotlib.figure.Figure at 0x7639908>"
      ]
     },
     "metadata": {},
     "output_type": "display_data"
    }
   ],
   "source": [
    "plt.clf()\n",
    "plt.plot(range_x, k_vec_std,'-', color = 'r', linewidth = 2, label = 'Std.')\n",
    "plt.plot(range_x, k_vec_mod,'-', color = 'b', linewidth = 2, label = 'Mod.')\n",
    "plt.title(\"Level of capital\", fontsize = 15)\n",
    "plt.xlabel(\"time\", fontsize = 15)\n",
    "plt.ylabel(\"K\", fontsize = 15, rotation = 90)\n",
    "plt.legend(loc = 'center right')\n",
    "plt.xlim(0, ROUNDS - 1)\n",
    "plt.savefig('capital.png')"
   ]
  },
  {
   "cell_type": "markdown",
   "metadata": {},
   "source": [
    "...<a id=growth></a>the growth rate of output over time"
   ]
  },
  {
   "cell_type": "code",
   "execution_count": 26,
   "metadata": {
    "collapsed": false
   },
   "outputs": [
    {
     "data": {
      "image/png": "[encoded data removed]",
      "text/plain": [
       "<matplotlib.figure.Figure at 0x7840908>"
      ]
     },
     "metadata": {},
     "output_type": "display_data"
    }
   ],
   "source": [
    "plt.clf()\n",
    "plt.plot(range_x[1:(len(range_x) - 1)], growthRate(y_vec_std),'-', color = 'r', linewidth = 2, label = 'Std.')\n",
    "plt.plot(range_x[1:(len(range_x) - 1)], growthRate(y_vec_mod),'-', color = 'b', linewidth = 2, label = 'Mod.')\n",
    "plt.title(\"Growth rate of output\", fontsize = 15)\n",
    "plt.xlabel(\"time\", fontsize = 15)\n",
    "plt.ylabel(\"%\", fontsize = 15, rotation = 90)\n",
    "plt.legend(loc = 'upper right')\n",
    "plt.xlim(0, ROUNDS - 1)\n",
    "plt.savefig('growthrate.png')"
   ]
  },
  {
   "cell_type": "markdown",
   "metadata": {},
   "source": [
    "## 3. Golden rule savings rate\n",
    "\n",
    "In the framework of the Solow Model, any value between zero and one for the savings rate is possible. Naturally, that triggers the question whether one savings rate is \"better\" than another one? And if so, \"better\" in terms of what? In the simplest case, the people in an economy only care about their consumption, the more, the better. Thus, the savings rate that maximizes consumption, i.e., the difference between output and investment, is the most desired one. When solving for the golden rule savings rate algebraically, it turns out that the optimal value for s is alpha, the output share of capital. Alternatively, and that is what we did here, one can also use Pythons's optimzation methods and simply maximize consumption. "
   ]
  },
  {
   "cell_type": "code",
   "execution_count": 27,
   "metadata": {
    "collapsed": false
   },
   "outputs": [
    {
     "name": "stdout",
     "output_type": "stream",
     "text": [
      "0.300005891201\n"
     ]
    }
   ],
   "source": [
    "# given a certain savings rate, this function finds the value of capital at which investment equals depreciation\n",
    "def steadyStateKStd(s):\n",
    "    y_vec = []\n",
    "    k_vec = []\n",
    "    exitFlg = False\n",
    "    \n",
    "    while  not exitFlg:\n",
    "        if len(k_vec) == 0:\n",
    "            k_vec.append(K0)\n",
    "        else:\n",
    "            k_vec.append(capitalStd(k_vec[len(k_vec) - 1], y_vec[len(y_vec) - 1], s))\n",
    "\n",
    "        # calculate output\n",
    "        y_vec.append( output( k_vec[len(k_vec) - 1], L0 ) )\n",
    "        \n",
    "        if len(k_vec) > 2:\n",
    "            if (k_vec[len(k_vec) - 1] - k_vec[len(k_vec) - 2]) < EPSILON:\n",
    "                exitFlg = True\n",
    "                \n",
    "    return(k_vec[len(k_vec) - 2])\n",
    "    \n",
    "\n",
    "def consumption(s):\n",
    "    if s < 0 or s > 1:\n",
    "        return(0)\n",
    "        \n",
    "    k_ss = steadyStateKStd(s)\n",
    "    return(output(k_ss, L0) - DELTA * k_ss)\n",
    "    \n",
    "s_golden_rule = optimize.minimize_scalar(lambda x: (-1) * consumption(x)).x\n",
    "print s_golden_rule"
   ]
  },
  {
   "cell_type": "markdown",
   "metadata": {},
   "source": [
    "## 4. Conclusions\n",
    "\n",
    "The modified version of the Solow Model is lagging behind the Standard Solow Model in terms of [growth rate](#growth), [level of output](#output), as well as accumulation of [capital](#capital). The reason is simply that the modified version invests less each period compared to the standard version. \n",
    "\n",
    "At the beginning, both economies start from the same level of output. However, over time, the Standard Model reaches a higher level because net investment each period is higher. Since we assumed a Cobb-Douglas production function, we have diminishing returns to both labor and capital, thus the concave shape in those two graphs.\n",
    "\n",
    "Finally, as the economies get closer to their respective steady states, growth slows down, thus the convex shape of growth rates."
   ]
  }
 ],
 "metadata": {
  "kernelspec": {
   "display_name": "Python 2",
   "language": "python",
   "name": "python2"
  },
  "language_info": {
   "codemirror_mode": {
    "name": "ipython",
    "version": 2
   },
   "file_extension": ".py",
   "mimetype": "text/x-python",
   "name": "python",
   "nbconvert_exporter": "python",
   "pygments_lexer": "ipython2",
   "version": "2.7.11"
  }
 },
 "nbformat": 4,
 "nbformat_minor": 0
}
